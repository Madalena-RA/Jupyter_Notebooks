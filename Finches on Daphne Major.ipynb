{
 "cells": [
  {
   "cell_type": "markdown",
   "metadata": {},
   "source": [
    "# Darwin's Finches on Daphne Major : Exploratory Data Analysis of beaks measurements "
   ]
  },
  {
   "cell_type": "markdown",
   "metadata": {},
   "source": [
    "This project is based on DataCamp's course on \"Statistical Thinking in Python, Part 2\" looking into the EDA of beak depth and length of Darwin's finches.\n",
    "\n",
    "Every year since 1973, Peter and Rosemary Grant have monitored two dominant finch species on the island of Daphne Major in the Galápagos. \n",
    "The researches have monitored the species, Geospiza fortis and Geospiza scandens, making some physiolofical measurements, taking some samples for genetic sequencing and more. We will be looking primarly at the beak length and the beak depth of both species and exploring how it varies over time from species to species and from parents to offspring. \n",
    "\n",
    "This dataset was taken from kaggle; \n",
    "Steve Ivan. (2019, July). Darwin Scandens Finches Beaks, Version 1. Retrieved March 22, 2021 from https://www.kaggle.com/stenivan/darwin-scandens-finches-beaks/metadata ."
   ]
  },
  {
   "cell_type": "code",
   "execution_count": 1,
   "metadata": {},
   "outputs": [],
   "source": [
    "#import some useful packages\n",
    "import pandas as pd\n",
    "import matplotlib.pyplot as plt\n",
    "import seaborn as sns\n",
    "import numpy as np"
   ]
  },
  {
   "cell_type": "markdown",
   "metadata": {},
   "source": [
    "### Index\n",
    "1. [Cleaning Data](#Cleaning)\n",
    "2. [Looking at the Data](#hist)\n",
    "    1. Histograms\n",
    "3. [Exploratory Data Analysis](#EDA)\n",
    "    1. [Beaks Depth](#BD)\n",
    "        1. Swarmplot\n",
    "        2. ECDF \n",
    "        3. Parameter estimation of beak depth - bootstrap replicate of 1D data and multiple bootstrap replicates.\n",
    "        4. Estimate the difference of the mean beak depth of the G.scandens between 1975 and 2012. Hypothesis testing.\n",
    "    2. [Variation in beak shapes](#shape)\n",
    "        1. Liner Regression.\n",
    "        2. Pairs bootstrap for linear regression. \n",
    "        3. Beak length to depth ratio. "
   ]
  },
  {
   "cell_type": "code",
   "execution_count": 2,
   "metadata": {},
   "outputs": [],
   "source": [
    "# Import the data\n",
    "data_75 = pd.read_csv(\"C:/Users/madal/Documents/Projects/finches/finch_beaks_1975.csv\")\n",
    "data_12 = pd.read_csv(\"C:/Users/madal/Documents/Projects/finches/finch_beaks_2012.csv\")"
   ]
  },
  {
   "cell_type": "code",
   "execution_count": 3,
   "metadata": {
    "scrolled": false
   },
   "outputs": [
    {
     "data": {
      "text/html": [
       "<div>\n",
       "<style scoped>\n",
       "    .dataframe tbody tr th:only-of-type {\n",
       "        vertical-align: middle;\n",
       "    }\n",
       "\n",
       "    .dataframe tbody tr th {\n",
       "        vertical-align: top;\n",
       "    }\n",
       "\n",
       "    .dataframe thead th {\n",
       "        text-align: right;\n",
       "    }\n",
       "</style>\n",
       "<table border=\"1\" class=\"dataframe\">\n",
       "  <thead>\n",
       "    <tr style=\"text-align: right;\">\n",
       "      <th></th>\n",
       "      <th>band</th>\n",
       "      <th>species</th>\n",
       "      <th>Beak length, mm</th>\n",
       "      <th>Beak depth, mm</th>\n",
       "    </tr>\n",
       "  </thead>\n",
       "  <tbody>\n",
       "    <tr>\n",
       "      <th>0</th>\n",
       "      <td>2</td>\n",
       "      <td>fortis</td>\n",
       "      <td>9.4</td>\n",
       "      <td>8.0</td>\n",
       "    </tr>\n",
       "    <tr>\n",
       "      <th>1</th>\n",
       "      <td>9</td>\n",
       "      <td>fortis</td>\n",
       "      <td>9.2</td>\n",
       "      <td>8.3</td>\n",
       "    </tr>\n",
       "    <tr>\n",
       "      <th>2</th>\n",
       "      <td>12</td>\n",
       "      <td>fortis</td>\n",
       "      <td>9.5</td>\n",
       "      <td>7.5</td>\n",
       "    </tr>\n",
       "    <tr>\n",
       "      <th>3</th>\n",
       "      <td>15</td>\n",
       "      <td>fortis</td>\n",
       "      <td>9.5</td>\n",
       "      <td>8.0</td>\n",
       "    </tr>\n",
       "    <tr>\n",
       "      <th>4</th>\n",
       "      <td>305</td>\n",
       "      <td>fortis</td>\n",
       "      <td>11.5</td>\n",
       "      <td>9.9</td>\n",
       "    </tr>\n",
       "  </tbody>\n",
       "</table>\n",
       "</div>"
      ],
      "text/plain": [
       "   band species  Beak length, mm  Beak depth, mm\n",
       "0     2  fortis              9.4             8.0\n",
       "1     9  fortis              9.2             8.3\n",
       "2    12  fortis              9.5             7.5\n",
       "3    15  fortis              9.5             8.0\n",
       "4   305  fortis             11.5             9.9"
      ]
     },
     "metadata": {},
     "output_type": "display_data"
    },
    {
     "data": {
      "text/html": [
       "<div>\n",
       "<style scoped>\n",
       "    .dataframe tbody tr th:only-of-type {\n",
       "        vertical-align: middle;\n",
       "    }\n",
       "\n",
       "    .dataframe tbody tr th {\n",
       "        vertical-align: top;\n",
       "    }\n",
       "\n",
       "    .dataframe thead th {\n",
       "        text-align: right;\n",
       "    }\n",
       "</style>\n",
       "<table border=\"1\" class=\"dataframe\">\n",
       "  <thead>\n",
       "    <tr style=\"text-align: right;\">\n",
       "      <th></th>\n",
       "      <th>band</th>\n",
       "      <th>species</th>\n",
       "      <th>blength</th>\n",
       "      <th>bdepth</th>\n",
       "    </tr>\n",
       "  </thead>\n",
       "  <tbody>\n",
       "    <tr>\n",
       "      <th>0</th>\n",
       "      <td>19022</td>\n",
       "      <td>fortis</td>\n",
       "      <td>10.0</td>\n",
       "      <td>8.5</td>\n",
       "    </tr>\n",
       "    <tr>\n",
       "      <th>1</th>\n",
       "      <td>19028</td>\n",
       "      <td>fortis</td>\n",
       "      <td>12.5</td>\n",
       "      <td>8.9</td>\n",
       "    </tr>\n",
       "    <tr>\n",
       "      <th>2</th>\n",
       "      <td>19032</td>\n",
       "      <td>fortis</td>\n",
       "      <td>9.3</td>\n",
       "      <td>7.5</td>\n",
       "    </tr>\n",
       "    <tr>\n",
       "      <th>3</th>\n",
       "      <td>19041</td>\n",
       "      <td>fortis</td>\n",
       "      <td>10.3</td>\n",
       "      <td>9.6</td>\n",
       "    </tr>\n",
       "    <tr>\n",
       "      <th>4</th>\n",
       "      <td>19044</td>\n",
       "      <td>fortis</td>\n",
       "      <td>11.0</td>\n",
       "      <td>9.2</td>\n",
       "    </tr>\n",
       "  </tbody>\n",
       "</table>\n",
       "</div>"
      ],
      "text/plain": [
       "    band species  blength  bdepth\n",
       "0  19022  fortis     10.0     8.5\n",
       "1  19028  fortis     12.5     8.9\n",
       "2  19032  fortis      9.3     7.5\n",
       "3  19041  fortis     10.3     9.6\n",
       "4  19044  fortis     11.0     9.2"
      ]
     },
     "metadata": {},
     "output_type": "display_data"
    }
   ],
   "source": [
    "# Looking at the raw data\n",
    "display(data_75.head())\n",
    "display(data_12.head())"
   ]
  },
  {
   "cell_type": "markdown",
   "metadata": {},
   "source": [
    "<a id=\"Cleaning\"></a>\n",
    "\n",
    "## Data Cleaning\n"
   ]
  },
  {
   "cell_type": "code",
   "execution_count": 4,
   "metadata": {},
   "outputs": [
    {
     "data": {
      "text/plain": [
       "species            0\n",
       "Beak length, mm    0\n",
       "Beak depth, mm     0\n",
       "dtype: int64"
      ]
     },
     "metadata": {},
     "output_type": "display_data"
    },
    {
     "data": {
      "text/plain": [
       "species    0\n",
       "blength    0\n",
       "bdepth     0\n",
       "dtype: int64"
      ]
     },
     "metadata": {},
     "output_type": "display_data"
    },
    {
     "name": "stdout",
     "output_type": "stream",
     "text": [
      "For 1975 there are :  403  observations\n",
      "For 2012 there are :  248  observations\n"
     ]
    },
    {
     "data": {
      "text/html": [
       "<div>\n",
       "<style scoped>\n",
       "    .dataframe tbody tr th:only-of-type {\n",
       "        vertical-align: middle;\n",
       "    }\n",
       "\n",
       "    .dataframe tbody tr th {\n",
       "        vertical-align: top;\n",
       "    }\n",
       "\n",
       "    .dataframe thead th {\n",
       "        text-align: right;\n",
       "    }\n",
       "</style>\n",
       "<table border=\"1\" class=\"dataframe\">\n",
       "  <thead>\n",
       "    <tr style=\"text-align: right;\">\n",
       "      <th></th>\n",
       "      <th>band</th>\n",
       "      <th>species</th>\n",
       "      <th>Beak length, mm</th>\n",
       "      <th>Beak depth, mm</th>\n",
       "      <th>year</th>\n",
       "    </tr>\n",
       "  </thead>\n",
       "  <tbody>\n",
       "    <tr>\n",
       "      <th>0</th>\n",
       "      <td>2</td>\n",
       "      <td>fortis</td>\n",
       "      <td>9.4</td>\n",
       "      <td>8.0</td>\n",
       "      <td>1975</td>\n",
       "    </tr>\n",
       "    <tr>\n",
       "      <th>1</th>\n",
       "      <td>9</td>\n",
       "      <td>fortis</td>\n",
       "      <td>9.2</td>\n",
       "      <td>8.3</td>\n",
       "      <td>1975</td>\n",
       "    </tr>\n",
       "    <tr>\n",
       "      <th>2</th>\n",
       "      <td>12</td>\n",
       "      <td>fortis</td>\n",
       "      <td>9.5</td>\n",
       "      <td>7.5</td>\n",
       "      <td>1975</td>\n",
       "    </tr>\n",
       "    <tr>\n",
       "      <th>3</th>\n",
       "      <td>15</td>\n",
       "      <td>fortis</td>\n",
       "      <td>9.5</td>\n",
       "      <td>8.0</td>\n",
       "      <td>1975</td>\n",
       "    </tr>\n",
       "    <tr>\n",
       "      <th>4</th>\n",
       "      <td>305</td>\n",
       "      <td>fortis</td>\n",
       "      <td>11.5</td>\n",
       "      <td>9.9</td>\n",
       "      <td>1975</td>\n",
       "    </tr>\n",
       "  </tbody>\n",
       "</table>\n",
       "</div>"
      ],
      "text/plain": [
       "   band species  Beak length, mm  Beak depth, mm  year\n",
       "0     2  fortis              9.4             8.0  1975\n",
       "1     9  fortis              9.2             8.3  1975\n",
       "2    12  fortis              9.5             7.5  1975\n",
       "3    15  fortis              9.5             8.0  1975\n",
       "4   305  fortis             11.5             9.9  1975"
      ]
     },
     "metadata": {},
     "output_type": "display_data"
    },
    {
     "data": {
      "text/html": [
       "<div>\n",
       "<style scoped>\n",
       "    .dataframe tbody tr th:only-of-type {\n",
       "        vertical-align: middle;\n",
       "    }\n",
       "\n",
       "    .dataframe tbody tr th {\n",
       "        vertical-align: top;\n",
       "    }\n",
       "\n",
       "    .dataframe thead th {\n",
       "        text-align: right;\n",
       "    }\n",
       "</style>\n",
       "<table border=\"1\" class=\"dataframe\">\n",
       "  <thead>\n",
       "    <tr style=\"text-align: right;\">\n",
       "      <th></th>\n",
       "      <th>band</th>\n",
       "      <th>species</th>\n",
       "      <th>Beak length, mm</th>\n",
       "      <th>Beak depth, mm</th>\n",
       "      <th>year</th>\n",
       "    </tr>\n",
       "  </thead>\n",
       "  <tbody>\n",
       "    <tr>\n",
       "      <th>0</th>\n",
       "      <td>19022</td>\n",
       "      <td>fortis</td>\n",
       "      <td>10.0</td>\n",
       "      <td>8.5</td>\n",
       "      <td>2012</td>\n",
       "    </tr>\n",
       "    <tr>\n",
       "      <th>1</th>\n",
       "      <td>19028</td>\n",
       "      <td>fortis</td>\n",
       "      <td>12.5</td>\n",
       "      <td>8.9</td>\n",
       "      <td>2012</td>\n",
       "    </tr>\n",
       "    <tr>\n",
       "      <th>2</th>\n",
       "      <td>19032</td>\n",
       "      <td>fortis</td>\n",
       "      <td>9.3</td>\n",
       "      <td>7.5</td>\n",
       "      <td>2012</td>\n",
       "    </tr>\n",
       "    <tr>\n",
       "      <th>3</th>\n",
       "      <td>19041</td>\n",
       "      <td>fortis</td>\n",
       "      <td>10.3</td>\n",
       "      <td>9.6</td>\n",
       "      <td>2012</td>\n",
       "    </tr>\n",
       "    <tr>\n",
       "      <th>4</th>\n",
       "      <td>19044</td>\n",
       "      <td>fortis</td>\n",
       "      <td>11.0</td>\n",
       "      <td>9.2</td>\n",
       "      <td>2012</td>\n",
       "    </tr>\n",
       "  </tbody>\n",
       "</table>\n",
       "</div>"
      ],
      "text/plain": [
       "    band species  Beak length, mm  Beak depth, mm  year\n",
       "0  19022  fortis             10.0             8.5  2012\n",
       "1  19028  fortis             12.5             8.9  2012\n",
       "2  19032  fortis              9.3             7.5  2012\n",
       "3  19041  fortis             10.3             9.6  2012\n",
       "4  19044  fortis             11.0             9.2  2012"
      ]
     },
     "metadata": {},
     "output_type": "display_data"
    }
   ],
   "source": [
    "# checking for NaN\n",
    "display(data_75[['species', 'Beak length, mm', 'Beak depth, mm']].isna().sum())\n",
    "display(data_12[['species', 'blength', 'bdepth']].isna().sum())\n",
    "\n",
    "# Checking the number of observations per year\n",
    "print('For 1975 there are : ', len(data_75), ' observations')\n",
    "print('For 2012 there are : ', len(data_12), ' observations')\n",
    "\n",
    "# adding a year column to each dataframe (will help with the plotting)\n",
    "data_75['year'] = 1975\n",
    "data_12['year'] = 2012\n",
    "\n",
    "# Matching the columns names\n",
    "data_12.rename(columns ={'blength': 'Beak length, mm', 'bdepth': 'Beak depth, mm'}, inplace=True)\n",
    "\n",
    "# cheking the new columns\n",
    "display(data_75.head())\n",
    "display(data_12.head())\n",
    "\n"
   ]
  },
  {
   "cell_type": "code",
   "execution_count": 5,
   "metadata": {},
   "outputs": [
    {
     "data": {
      "text/plain": [
       "fortis      437\n",
       "scandens    214\n",
       "Name: species, dtype: int64"
      ]
     },
     "execution_count": 5,
     "metadata": {},
     "output_type": "execute_result"
    }
   ],
   "source": [
    "# Combining the two dataframes in a large one\n",
    "finches = pd.concat([data_75, data_12])\n",
    "\n",
    "finches.head()\n",
    "finches['species'].value_counts()"
   ]
  },
  {
   "cell_type": "code",
   "execution_count": 6,
   "metadata": {},
   "outputs": [
    {
     "data": {
      "text/html": [
       "<div>\n",
       "<style scoped>\n",
       "    .dataframe tbody tr th:only-of-type {\n",
       "        vertical-align: middle;\n",
       "    }\n",
       "\n",
       "    .dataframe tbody tr th {\n",
       "        vertical-align: top;\n",
       "    }\n",
       "\n",
       "    .dataframe thead th {\n",
       "        text-align: right;\n",
       "    }\n",
       "</style>\n",
       "<table border=\"1\" class=\"dataframe\">\n",
       "  <thead>\n",
       "    <tr style=\"text-align: right;\">\n",
       "      <th></th>\n",
       "      <th>band</th>\n",
       "      <th>species</th>\n",
       "      <th>Beak length, mm</th>\n",
       "      <th>Beak depth, mm</th>\n",
       "      <th>year</th>\n",
       "    </tr>\n",
       "  </thead>\n",
       "  <tbody>\n",
       "    <tr>\n",
       "      <th>316</th>\n",
       "      <td>302</td>\n",
       "      <td>scandens</td>\n",
       "      <td>13.9</td>\n",
       "      <td>8.4</td>\n",
       "      <td>1975</td>\n",
       "    </tr>\n",
       "    <tr>\n",
       "      <th>317</th>\n",
       "      <td>304</td>\n",
       "      <td>scandens</td>\n",
       "      <td>14.0</td>\n",
       "      <td>8.8</td>\n",
       "      <td>1975</td>\n",
       "    </tr>\n",
       "    <tr>\n",
       "      <th>318</th>\n",
       "      <td>306</td>\n",
       "      <td>scandens</td>\n",
       "      <td>12.9</td>\n",
       "      <td>8.4</td>\n",
       "      <td>1975</td>\n",
       "    </tr>\n",
       "    <tr>\n",
       "      <th>319</th>\n",
       "      <td>310</td>\n",
       "      <td>scandens</td>\n",
       "      <td>13.5</td>\n",
       "      <td>8.0</td>\n",
       "      <td>1975</td>\n",
       "    </tr>\n",
       "    <tr>\n",
       "      <th>320</th>\n",
       "      <td>317</td>\n",
       "      <td>scandens</td>\n",
       "      <td>12.9</td>\n",
       "      <td>7.9</td>\n",
       "      <td>1975</td>\n",
       "    </tr>\n",
       "  </tbody>\n",
       "</table>\n",
       "</div>"
      ],
      "text/plain": [
       "     band   species  Beak length, mm  Beak depth, mm  year\n",
       "316   302  scandens             13.9             8.4  1975\n",
       "317   304  scandens             14.0             8.8  1975\n",
       "318   306  scandens             12.9             8.4  1975\n",
       "319   310  scandens             13.5             8.0  1975\n",
       "320   317  scandens             12.9             7.9  1975"
      ]
     },
     "metadata": {},
     "output_type": "display_data"
    },
    {
     "name": "stdout",
     "output_type": "stream",
     "text": [
      "1975    87\n",
      "Name: year, dtype: int64\n",
      "2012    127\n",
      "Name: year, dtype: int64\n"
     ]
    },
    {
     "data": {
      "text/html": [
       "<div>\n",
       "<style scoped>\n",
       "    .dataframe tbody tr th:only-of-type {\n",
       "        vertical-align: middle;\n",
       "    }\n",
       "\n",
       "    .dataframe tbody tr th {\n",
       "        vertical-align: top;\n",
       "    }\n",
       "\n",
       "    .dataframe thead th {\n",
       "        text-align: right;\n",
       "    }\n",
       "</style>\n",
       "<table border=\"1\" class=\"dataframe\">\n",
       "  <thead>\n",
       "    <tr style=\"text-align: right;\">\n",
       "      <th></th>\n",
       "      <th>band</th>\n",
       "      <th>species</th>\n",
       "      <th>Beak length, mm</th>\n",
       "      <th>Beak depth, mm</th>\n",
       "      <th>year</th>\n",
       "    </tr>\n",
       "  </thead>\n",
       "  <tbody>\n",
       "    <tr>\n",
       "      <th>0</th>\n",
       "      <td>2</td>\n",
       "      <td>fortis</td>\n",
       "      <td>9.4</td>\n",
       "      <td>8.0</td>\n",
       "      <td>1975</td>\n",
       "    </tr>\n",
       "    <tr>\n",
       "      <th>1</th>\n",
       "      <td>9</td>\n",
       "      <td>fortis</td>\n",
       "      <td>9.2</td>\n",
       "      <td>8.3</td>\n",
       "      <td>1975</td>\n",
       "    </tr>\n",
       "    <tr>\n",
       "      <th>2</th>\n",
       "      <td>12</td>\n",
       "      <td>fortis</td>\n",
       "      <td>9.5</td>\n",
       "      <td>7.5</td>\n",
       "      <td>1975</td>\n",
       "    </tr>\n",
       "    <tr>\n",
       "      <th>3</th>\n",
       "      <td>15</td>\n",
       "      <td>fortis</td>\n",
       "      <td>9.5</td>\n",
       "      <td>8.0</td>\n",
       "      <td>1975</td>\n",
       "    </tr>\n",
       "    <tr>\n",
       "      <th>4</th>\n",
       "      <td>305</td>\n",
       "      <td>fortis</td>\n",
       "      <td>11.5</td>\n",
       "      <td>9.9</td>\n",
       "      <td>1975</td>\n",
       "    </tr>\n",
       "  </tbody>\n",
       "</table>\n",
       "</div>"
      ],
      "text/plain": [
       "   band species  Beak length, mm  Beak depth, mm  year\n",
       "0     2  fortis              9.4             8.0  1975\n",
       "1     9  fortis              9.2             8.3  1975\n",
       "2    12  fortis              9.5             7.5  1975\n",
       "3    15  fortis              9.5             8.0  1975\n",
       "4   305  fortis             11.5             9.9  1975"
      ]
     },
     "metadata": {},
     "output_type": "display_data"
    },
    {
     "name": "stdout",
     "output_type": "stream",
     "text": [
      "1975    316\n",
      "Name: year, dtype: int64\n",
      "2012    121\n",
      "Name: year, dtype: int64\n"
     ]
    }
   ],
   "source": [
    "# Dividing the finches dataframe into two dataframes, one for each species\n",
    "fortis = finches[finches['species']=='fortis']\n",
    "scandens = finches[finches['species']=='scandens']\n",
    "\n",
    "# Subsetting the scandens dataframe on the year\n",
    "scandens_75 = scandens[scandens['year']==1975]\n",
    "scandens_12 = scandens[scandens['year']==2012]\n",
    "\n",
    "display(scandens.head())\n",
    "print(scandens_75['year'].value_counts())\n",
    "print(scandens_12['year'].value_counts())\n",
    "\n",
    "# Subsetting the fortis dataframe on the year\n",
    "fortis_75 = fortis[fortis['year']==1975]\n",
    "fortis_12 = fortis[fortis['year']==2012]\n",
    "\n",
    "display(fortis.head())\n",
    "print(fortis_75['year'].value_counts())\n",
    "print(fortis_12['year'].value_counts())"
   ]
  },
  {
   "cell_type": "markdown",
   "metadata": {},
   "source": [
    "<a id=\"hist\"></a>\n",
    "\n",
    "## Looking at the data"
   ]
  },
  {
   "cell_type": "code",
   "execution_count": 7,
   "metadata": {},
   "outputs": [
    {
     "data": {
      "image/png": "[encoded data removed]",
      "text/plain": [
       "<Figure size 432x288 with 1 Axes>"
      ]
     },
     "metadata": {
      "needs_background": "light"
     },
     "output_type": "display_data"
    },
    {
     "data": {
      "image/png": "[encoded data removed]",
      "text/plain": [
       "<Figure size 432x288 with 1 Axes>"
      ]
     },
     "metadata": {
      "needs_background": "light"
     },
     "output_type": "display_data"
    },
    {
     "data": {
      "image/png": "[encoded data removed]",
      "text/plain": [
       "<Figure size 432x288 with 1 Axes>"
      ]
     },
     "metadata": {
      "needs_background": "light"
     },
     "output_type": "display_data"
    },
    {
     "data": {
      "image/png": "[encoded data removed]",
      "text/plain": [
       "<Figure size 432x288 with 1 Axes>"
      ]
     },
     "metadata": {
      "needs_background": "light"
     },
     "output_type": "display_data"
    }
   ],
   "source": [
    "dataframes = [fortis, scandens]\n",
    "columns = ['Beak length, mm', 'Beak depth, mm']\n",
    "\n",
    "\n",
    "for df in dataframes:\n",
    "    subset = df[columns]\n",
    "    species = str(df['species'].unique())\n",
    "    for col in subset.columns:\n",
    "        plt.hist(subset[col])\n",
    "        plt.title(species + ' : ' +col)\n",
    "        plt.show()"
   ]
  },
  {
   "cell_type": "markdown",
   "metadata": {},
   "source": [
    "<a id=\"EDA\"></a>\n",
    "\n",
    "# Exploratory Data Analysis of beak depths of Darwin's Finches\n"
   ]
  },
  {
   "cell_type": "markdown",
   "metadata": {},
   "source": [
    "<a id=\"BD\"></a>\n",
    "\n",
    "### Investigation of G. scandens beak depth. The beak depth is defined as the distance, top to bottom, of a closed beak.\n"
   ]
  },
  {
   "cell_type": "code",
   "execution_count": 8,
   "metadata": {
    "scrolled": false
   },
   "outputs": [
    {
     "data": {
      "image/png": "[encoded data removed]",
      "text/plain": [
       "<Figure size 432x288 with 1 Axes>"
      ]
     },
     "metadata": {
      "needs_background": "light"
     },
     "output_type": "display_data"
    }
   ],
   "source": [
    "_ = sns.swarmplot(x= scandens['year'], y= scandens['Beak depth, mm'])"
   ]
  },
  {
   "cell_type": "markdown",
   "metadata": {},
   "source": [
    "#### Empirical cumulative distribution function (ECDF) \n",
    "\n",
    "Creating a function that returns the coordenates to plot a ecdf from a give data. the x-values are the sorted data and the y-values go from 1/n to 1 in equally spaced increments.\n"
   ]
  },
  {
   "cell_type": "code",
   "execution_count": 9,
   "metadata": {},
   "outputs": [],
   "source": [
    "def ecdf(data):\n",
    "    '''Compute ECDF for a one-dimensional array of measurements'''\n",
    "    #number of data points\n",
    "    n = len(data)\n",
    "    \n",
    "    # x-data for the ecdf\n",
    "    x = np.sort(data)\n",
    "    \n",
    "    # t-data for the ecdf\n",
    "    y = np.arange(1, n+1)/n\n",
    "    \n",
    "    return x, y"
   ]
  },
  {
   "cell_type": "code",
   "execution_count": 10,
   "metadata": {
    "scrolled": true
   },
   "outputs": [
    {
     "data": {
      "image/png": "[encoded data removed]",
      "text/plain": [
       "<Figure size 432x288 with 1 Axes>"
      ]
     },
     "metadata": {
      "needs_background": "light"
     },
     "output_type": "display_data"
    }
   ],
   "source": [
    "# Compute the ECDFs for the beak depth for both years, 1975 and 2021\n",
    "x_75, y_75 = ecdf(scandens_75['Beak depth, mm'])\n",
    "x_12, y_12 = ecdf(scandens_12['Beak depth, mm'])\n",
    "\n",
    "# Plot the ECDFs\n",
    "sns.set\n",
    "_ = plt.plot(x_75, y_75, marker='.', linestyle='none')\n",
    "_ = plt.plot(x_12, y_12, marker='.', linestyle='none')\n",
    "\n",
    "# Set margins\n",
    "plt.margins(0.02)\n",
    "\n",
    "# Add axis labels and legend\n",
    "_ = plt.xlabel('beak depth (mm)')\n",
    "_ = plt.ylabel('ECDF')\n",
    "_ = plt.legend(('1975', '2012'), loc='lower right')\n",
    "\n",
    "# Show the plot\n",
    "plt.show()"
   ]
  },
  {
   "cell_type": "markdown",
   "metadata": {},
   "source": [
    "From the EDCFs is much easier to see a clear difference in beak depths. The mean is larger in the 2012 data, and the variance does appear larger as well. "
   ]
  },
  {
   "cell_type": "markdown",
   "metadata": {},
   "source": [
    "#### Parameter Estimation of beak depths\n",
    "\n",
    "The function *bootsrap_replicate_1d* takes a one-dimensional array, performs a resample with replacement and returns the value of the bootstrap replicate, there is, the summary statistics of a bootstrap sample (the summary statistics to be applied is defined by the user) \n",
    "\n",
    "The function *draw_bs_reps* generates many bootstrap replicates from a data set and stores them in an array. This function is useful to compute confidence intervals and uses the *boostrap_replicate_1d* function. "
   ]
  },
  {
   "cell_type": "code",
   "execution_count": 11,
   "metadata": {},
   "outputs": [],
   "source": [
    "def bootstrap_replicate_1d(data, func):\n",
    "    \"\"\"Generate bootstrap replicate of 1D data. \n",
    "    \n",
    "    Args:\n",
    "        data (one-dimensional array) : data to be resampled\n",
    "        func (str) : summary statistics to be applied\n",
    "    Returns:\n",
    "        array storing the boostrap replicates\n",
    "    \"\"\"\n",
    "    bs_sample = np.random.choice(data, len(data))\n",
    "    return func(bs_sample)\n",
    "\n",
    "\n",
    "\n",
    "def draw_bs_reps(data, func, size=1):\n",
    "    \"\"\"Draw bootstrap replicates.\n",
    "    Args:\n",
    "        data (one-dimensional array): data to be resampled\n",
    "        func (str): bootstrap replicate : summary statistics of a bootstrap sample\n",
    "        size (int, optional) : number of bootstrap samples. 1 by default\n",
    "    \n",
    "    Returns:\n",
    "        array storing the summary statistics (func) for each boostrap sample\n",
    "    \"\"\"\n",
    "    \n",
    "    # Initialize array of replicated\n",
    "    bs_replicates = np.empty(size)\n",
    "    \n",
    "    \n",
    "   # Generate replicates\n",
    "    for i in range(size):\n",
    "        bs_replicates[i] = bootstrap_replicate_1d(data=data, func=func)\n",
    "\n",
    "    return bs_replicates\n",
    "\n"
   ]
  },
  {
   "cell_type": "markdown",
   "metadata": {},
   "source": [
    "#### Estimate the difference of the mean beak depth of the G.scandens "
   ]
  },
  {
   "cell_type": "code",
   "execution_count": 12,
   "metadata": {},
   "outputs": [
    {
     "name": "stdout",
     "output_type": "stream",
     "text": [
      "difference of means = 0.2262204724409429 mm\n",
      "95% confidence interval = [0.06012105 0.39472516] mm\n"
     ]
    }
   ],
   "source": [
    "# Difference of the sample means\n",
    "mean_diff = np.mean(scandens_12['Beak depth, mm']) - np.mean(scandens_75['Beak depth, mm'])\n",
    "\n",
    "# Getting bootstrap replicates of means \n",
    "bs_replicates_1975 = draw_bs_reps(scandens_75['Beak depth, mm'], np.mean, 10000)\n",
    "bs_replicates_2012 = draw_bs_reps(scandens_12['Beak depth, mm'], np.mean, 10000)\n",
    "\n",
    "# Compute samples of difference of means \n",
    "bs_diff_replicates = bs_replicates_2012- bs_replicates_1975 \n",
    "\n",
    "# Compute 95% confidence interval: conf_int\n",
    "conf_int = np.percentile(bs_diff_replicates, [2.5, 97.5]) \n",
    "\n",
    "# Print the results\n",
    "print('difference of means =', mean_diff, 'mm')\n",
    "print('95% confidence interval =', conf_int, 'mm')\n"
   ]
  },
  {
   "cell_type": "markdown",
   "metadata": {},
   "source": [
    "From the previous analysis, it seems pretty clear that the beaks of G.scandens on Daphne Major have gotten deeper. \n",
    "\n",
    "A natural question that rises from this is: Could it be that this effect is just due to random chance? In other words, what is the probability that we would get the observed difference in mean beak depth if the means were the same. \n",
    "\n",
    "The hypothesis is that the means are equal. To perform rhis hypothesis test, we need to shift the two data sets so that they have the same mean and then use bootstrap sampling to compute the difference of means. "
   ]
  },
  {
   "cell_type": "code",
   "execution_count": 13,
   "metadata": {},
   "outputs": [
    {
     "name": "stdout",
     "output_type": "stream",
     "text": [
      "p = 0.0035\n"
     ]
    }
   ],
   "source": [
    "# Compute the mean of the combined data (1975 and 2012 - scandens dataframe)\n",
    "combined_mean = np.mean(scandens['Beak depth, mm'])\n",
    "\n",
    "# Shift the samples\n",
    "bd_1975_shifted = scandens_75['Beak depth, mm'] - np.mean(scandens_75['Beak depth, mm']) + combined_mean\n",
    "bd_2012_shifted = scandens_12['Beak depth, mm'] - np.mean(scandens_12['Beak depth, mm']) + combined_mean\n",
    "\n",
    "# Get bootstrap replicates of shifted data sets\n",
    "bs_replicates_1975 = draw_bs_reps(bd_1975_shifted, np.mean, 10000)\n",
    "bs_replicates_2012 = draw_bs_reps(bd_2012_shifted, np.mean, 10000)\n",
    "\n",
    "# Compute replicates of difference of means: bs_diff_replicates\n",
    "bs_diff_replicates = bs_replicates_2012 - bs_replicates_1975\n",
    "\n",
    "# Compute the p-value\n",
    "p = np.sum(bs_diff_replicates >= mean_diff) / len(bs_diff_replicates)\n",
    "\n",
    "# Print p-value\n",
    "print('p =', p)\n"
   ]
  },
  {
   "cell_type": "markdown",
   "metadata": {},
   "source": [
    "We get a p-value which suggests that there is a statistically significant difference between the means. A change of 0.2 mm in 37 years is substantial by evolutionary standards. "
   ]
  },
  {
   "cell_type": "markdown",
   "metadata": {},
   "source": [
    "<a id=\"shape\"></a>\n",
    "\n",
    "### Variation in beak shapes\n",
    "\n",
    "Since the depth of the beak seems to have changed over time, it is only logical to ask if this is also the case for beak length. If the length and depth changed at the same rate, the beak has the same shape, it only got bigger. However, if the relationship between the beak length and beak depth change differently, the shape of the beak also changes.  "
   ]
  },
  {
   "cell_type": "markdown",
   "metadata": {},
   "source": [
    "#### Exploratory data analysis of the beak length and depth \n",
    "\n",
    "Lets look at the relationship between beak length and beak depth over time for G. scandens. \n"
   ]
  },
  {
   "cell_type": "code",
   "execution_count": 14,
   "metadata": {
    "scrolled": true
   },
   "outputs": [
    {
     "data": {
      "image/png": "[encoded data removed]",
      "text/plain": [
       "<Figure size 432x288 with 1 Axes>"
      ]
     },
     "metadata": {
      "needs_background": "light"
     },
     "output_type": "display_data"
    }
   ],
   "source": [
    "# scatter plot of 1975 data\n",
    "_ = plt.plot(scandens_75['Beak length, mm'],  scandens_75['Beak depth, mm'], marker='.', linestyle='none', color='blue', alpha=0.5)\n",
    "\n",
    "# scatter plot of 2012 data\n",
    "_ = plt.plot(scandens_12['Beak length, mm'],  scandens_12['Beak depth, mm'], marker='.', linestyle='none', color='red', alpha=0.5)\n",
    "\n",
    "# Label axes and make legend\n",
    "_ = plt.xlabel('beak length (mm)')\n",
    "_ = plt.ylabel('beak depth (mm)')\n",
    "_ = plt.legend(('1975', '2012'), loc='upper left')\n",
    "\n",
    "# Show the plot\n",
    "plt.show()"
   ]
  },
  {
   "cell_type": "markdown",
   "metadata": {},
   "source": [
    "By looking at the plot, it seems that the beaks got deeper (red points are higher in the y scale), but not really longer. If anything, they got a bit shorter, since the red points are to the left of the blue points. Overall, it looks like the beaks changed their shape - they became deeper and shorter. "
   ]
  },
  {
   "cell_type": "markdown",
   "metadata": {},
   "source": [
    "#### Linear Regressions\n",
    "\n",
    "Perform a linear regression for both 1975 and 2012 data. Then, perform pairs bootstrap estimates for the regression parameters. Report a 95% confidence intervals on the slope and intercept of the regression line. \n",
    "\n",
    "The function *draw_bs_pairs_linreg* performs pairs bootstrap for linear regression. Resamples pairs of data and returns the slope and intercept of the line that best fits the data. the slope and intercept of each line (number of lines is determine by the number of pairs bootstraps defined by the size argument) are stored in *bs_slope_reps* and *bs_intercept_reps* respectively.  "
   ]
  },
  {
   "cell_type": "code",
   "execution_count": 15,
   "metadata": {},
   "outputs": [],
   "source": [
    "def draw_bs_pairs_linreg(x, y, size=1):\n",
    "    \"\"\"Performs pairs bootstrap for linear regression \n",
    "    pairs bootstraps involves resampling pairs of data. \n",
    "    Each collection of pairs fit with a line.\n",
    "    \n",
    "    Args:\n",
    "    x (one-dimensional array)\n",
    "    y (one-dimensional array)\n",
    "    size (int, optional) : number of pairs bootstraps\n",
    "    \"\"\"\n",
    "    # Array of indices to sample from\n",
    "    inds = np.arange(len(x))\n",
    "    \n",
    "    # Initialize replicates\n",
    "    bs_slope_reps = np.empty(size)\n",
    "    bs_intercept_reps = np.empty(size)\n",
    "    \n",
    "    #Generate replicates\n",
    "    for i in range(size):\n",
    "        #creates a random sample of indices\n",
    "        bs_inds = np.random.choice(inds, size=len(inds))\n",
    "        #subsets each array according to the random indices\n",
    "        bs_x, bs_y = x[bs_inds], y[bs_inds]\n",
    "        #computes a linear regression on said arrays\n",
    "        bs_slope_reps[i], bs_intercept_reps[i] = np.polyfit(bs_x, bs_y, 1)\n",
    "    \n",
    "    return bs_slope_reps, bs_intercept_reps"
   ]
  },
  {
   "cell_type": "code",
   "execution_count": 16,
   "metadata": {},
   "outputs": [
    {
     "name": "stdout",
     "output_type": "stream",
     "text": [
      "1975: slope = 0.4652051691605937 conf int = [0.33184304 0.58758566]\n",
      "1975: intercept = 2.3908752365842276 conf int = [0.69677231 4.22231999]\n",
      "2012: slope = 0.462630358835313 conf int = [0.32804897 0.60391335]\n",
      "2012: intercept = 2.977247498236019 conf int = [1.10326531 4.74818282]\n"
     ]
    }
   ],
   "source": [
    "#Compute the linear regressions \n",
    "slope_75, intercept_75 = np.polyfit(scandens_75['Beak length, mm'], scandens_75['Beak depth, mm'], 1)\n",
    "slope_12, intercept_12 = np.polyfit(scandens_12['Beak length, mm'], scandens_12['Beak depth, mm'], 1)\n",
    "\n",
    "# Perform pairs bootstraps for the linear regressions\n",
    "bl_75 = scandens_75['Beak length, mm'].to_numpy()\n",
    "bd_75 = scandens_75['Beak depth, mm'].to_numpy()\n",
    "\n",
    "bl_12 = scandens_12['Beak length, mm'].to_numpy()\n",
    "bd_12 = scandens_12['Beak depth, mm'].to_numpy()\n",
    "\n",
    "bs_slope_reps_75, bs_intercept_reps_75 = draw_bs_pairs_linreg(bl_75, bd_75, size=1000)\n",
    "bs_slope_reps_12, bs_intercept_reps_12 = draw_bs_pairs_linreg(bl_12, bd_12, size=1000)\n",
    "\n",
    "# Compute confidence intervals of slopes\n",
    "slope_conf_int_75 = np.percentile(bs_slope_reps_75, [2.5, 97.5])\n",
    "slope_conf_int_12 = np.percentile(bs_slope_reps_12, [2.5, 97.5])\n",
    "intercept_conf_int_75 = np.percentile(bs_intercept_reps_75, [2.5, 97.5])\n",
    "intercept_conf_int_12 = np.percentile(bs_intercept_reps_12, [2.5, 97.5])\n",
    "\n",
    "# Print the results\n",
    "print('1975: slope =', slope_75,\n",
    "      'conf int =', slope_conf_int_75)\n",
    "print('1975: intercept =', intercept_75,\n",
    "      'conf int =', intercept_conf_int_75)\n",
    "print('2012: slope =', slope_12,\n",
    "      'conf int =', slope_conf_int_12)\n",
    "print('2012: intercept =', intercept_12,\n",
    "      'conf int =', intercept_conf_int_12)"
   ]
  },
  {
   "cell_type": "code",
   "execution_count": 17,
   "metadata": {
    "scrolled": true
   },
   "outputs": [
    {
     "data": {
      "image/png": "[encoded data removed]",
      "text/plain": [
       "<Figure size 432x288 with 1 Axes>"
      ]
     },
     "metadata": {
      "needs_background": "light"
     },
     "output_type": "display_data"
    }
   ],
   "source": [
    "# Looking at the linear regressions\n",
    "_ = plt.plot(bl_75, bd_75, marker='.', linestyle='none', color='blue', alpha=0.5)\n",
    "_ = plt.plot(bl_12, bd_12, marker='.', linestyle='none', color='red', alpha=0.5)\n",
    "\n",
    "_ = plt.xlabel('Beak length, mm')\n",
    "_ = plt.ylabel('Beak depth, mm')\n",
    "_ = plt.legend(('1975', '2012'), loc='upper left')\n",
    "\n",
    "#Generate x-values for bootstrap lines\n",
    "x = np.array([10,17])\n",
    "\n",
    "#plot bootstrap lines\n",
    "for i in range(100):\n",
    "    plt.plot(x, (bs_slope_reps_75[i] * x + bs_intercept_reps_75[i]), linewidth= 0.5, alpha=0.2, color='blue')\n",
    "    plt.plot(x, (bs_slope_reps_12[i] * x + bs_intercept_reps_12[i]), linewidth=0.5, alpha=0.2, color='red')\n",
    "\n",
    "# Draw the plot again\n",
    "plt.show()"
   ]
  },
  {
   "cell_type": "markdown",
   "metadata": {},
   "source": [
    "The linear regression showed interesting information about the beak geometry. The slope was the same in 1975 and 2012, suggesting that for every millimeter gained in beak length, the birds gained about half millimeter in depth in both years. However, if we are interested in the shape of the beak, we want to compare the ratio of beak length to beak depth."
   ]
  },
  {
   "cell_type": "markdown",
   "metadata": {},
   "source": [
    "#### Beak length to depth ratio\n",
    "\n",
    "The ratio is calculated as : Beak length/Beak depth"
   ]
  },
  {
   "cell_type": "code",
   "execution_count": 43,
   "metadata": {},
   "outputs": [
    {
     "name": "stdout",
     "output_type": "stream",
     "text": [
      "1975: mean ratio = 1.5788823771858533 conf int = [1.55677918 1.60130615]\n",
      "2012: mean ratio = 1.4658342276847767 conf int = [1.4448598  1.48770511]\n"
     ]
    }
   ],
   "source": [
    "# Compute length-to-depth ratios\n",
    "ratio_75 = bl_75/bd_75\n",
    "ratio_12 = bl_12/bd_12 \n",
    "\n",
    "# Compute means\n",
    "mean_ratio_75 = np.mean(ratio_75)\n",
    "mean_ratio_12 = np.mean(ratio_12)\n",
    "\n",
    "# Generate bootstrap replicates of the means\n",
    "bs_replicates_75 = draw_bs_reps(ratio_75, np.mean, 10000)\n",
    "bs_replicates_12 = draw_bs_reps(ratio_12, np.mean, 10000)\n",
    "\n",
    "# Compute the 99% confidence intervals\n",
    "conf_int_75 = np.percentile(bs_replicates_75, [0.5, 99.5])\n",
    "conf_int_12 = np.percentile(bs_replicates_12, [0.5, 99.5])\n",
    "\n",
    "# Print the results\n",
    "print('1975: mean ratio =', mean_ratio_75,\n",
    "      'conf int =', conf_int_75)\n",
    "print('2012: mean ratio =', mean_ratio_12,\n",
    "      'conf int =', conf_int_12)\n",
    "\n"
   ]
  },
  {
   "cell_type": "code",
   "execution_count": 79,
   "metadata": {},
   "outputs": [
    {
     "data": {
      "text/html": [
       "<div>\n",
       "<style scoped>\n",
       "    .dataframe tbody tr th:only-of-type {\n",
       "        vertical-align: middle;\n",
       "    }\n",
       "\n",
       "    .dataframe tbody tr th {\n",
       "        vertical-align: top;\n",
       "    }\n",
       "\n",
       "    .dataframe thead th {\n",
       "        text-align: right;\n",
       "    }\n",
       "</style>\n",
       "<table border=\"1\" class=\"dataframe\">\n",
       "  <thead>\n",
       "    <tr style=\"text-align: right;\">\n",
       "      <th></th>\n",
       "      <th>ratio</th>\n",
       "      <th>year</th>\n",
       "      <th>percentile_05</th>\n",
       "      <th>percentile_995</th>\n",
       "    </tr>\n",
       "  </thead>\n",
       "  <tbody>\n",
       "    <tr>\n",
       "      <th>0</th>\n",
       "      <td>1.578882</td>\n",
       "      <td>1975</td>\n",
       "      <td>1.556779</td>\n",
       "      <td>1.601306</td>\n",
       "    </tr>\n",
       "    <tr>\n",
       "      <th>1</th>\n",
       "      <td>1.465834</td>\n",
       "      <td>2012</td>\n",
       "      <td>1.444860</td>\n",
       "      <td>1.487705</td>\n",
       "    </tr>\n",
       "  </tbody>\n",
       "</table>\n",
       "</div>"
      ],
      "text/plain": [
       "      ratio  year  percentile_05  percentile_995\n",
       "0  1.578882  1975       1.556779        1.601306\n",
       "1  1.465834  2012       1.444860        1.487705"
      ]
     },
     "metadata": {},
     "output_type": "display_data"
    },
    {
     "data": {
      "image/png": "[encoded data removed]",
      "text/plain": [
       "<Figure size 432x288 with 1 Axes>"
      ]
     },
     "metadata": {
      "needs_background": "light"
     },
     "output_type": "display_data"
    }
   ],
   "source": [
    "p75_05 = np.percentile(bs_replicates_75, 0.5)\n",
    "p75_995 = np.percentile(bs_replicates_75, 99.5)\n",
    "p12_05 = np.percentile(bs_replicates_12, 0.5)\n",
    "p12_995 = np.percentile(bs_replicates_12, 99.5)\n",
    "\n",
    "r_all = pd.DataFrame({'ratio':[mean_ratio_75, mean_ratio_12], \n",
    "                      'year': [1975, 2012],\n",
    "                      'percentile_05': [p75_05, p12_05],\n",
    "                      'percentile_995' : [p75_995, p12_995]}) \n",
    "\n",
    "\n",
    "display(r_all)\n",
    "\n",
    "\n",
    "for lower,upper,y,m in zip(r_all['percentile_05'],r_all['percentile_995'],range(len(r_all)),r_all['ratio']):\n",
    "    plt.plot((lower,upper),(y,y),'ro-',color= 'lightblue')\n",
    "    plt.plot(m, y, linestyle='none', marker='o', color='blue')\n",
    "    plt.yticks(range(len(r_all)),list(r_all['year']))\n",
    "    plt.xlabel('beak length/beak depth')\n"
   ]
  },
  {
   "cell_type": "markdown",
   "metadata": {},
   "source": [
    "The mean beak length-to-depth ratio decreased by about 0.1, from 1975 to 2012. The 99% confidence intervals are not even close to overlapping, so this is a real change. The beak shape changed. "
   ]
  }
 ],
 "metadata": {
  "kernelspec": {
   "display_name": "Python 3",
   "language": "python",
   "name": "python3"
  },
  "language_info": {
   "codemirror_mode": {
    "name": "ipython",
    "version": 3
   },
   "file_extension": ".py",
   "mimetype": "text/x-python",
   "name": "python",
   "nbconvert_exporter": "python",
   "pygments_lexer": "ipython3",
   "version": "3.8.5"
  }
 },
 "nbformat": 4,
 "nbformat_minor": 4
}
